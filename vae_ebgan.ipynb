{
 "cells": [
  {
   "cell_type": "code",
   "execution_count": 1,
   "metadata": {
    "collapsed": true
   },
   "outputs": [],
   "source": [
    "import numpy\n",
    "import torch\n",
    "import torch.utils.data\n",
    "from torchvision import datasets, transforms"
   ]
  },
  {
   "cell_type": "code",
   "execution_count": 2,
   "metadata": {},
   "outputs": [],
   "source": [
    "%load_ext autoreload\n",
    "%autoreload 2\n"
   ]
  },
  {
   "cell_type": "code",
   "execution_count": null,
   "metadata": {
    "collapsed": true
   },
   "outputs": [],
   "source": []
  },
  {
   "cell_type": "code",
   "execution_count": null,
   "metadata": {
    "collapsed": true
   },
   "outputs": [],
   "source": []
  },
  {
   "cell_type": "code",
   "execution_count": null,
   "metadata": {
    "collapsed": true
   },
   "outputs": [],
   "source": []
  },
  {
   "cell_type": "code",
   "execution_count": null,
   "metadata": {
    "collapsed": true
   },
   "outputs": [],
   "source": []
  },
  {
   "cell_type": "code",
   "execution_count": 3,
   "metadata": {
    "collapsed": true
   },
   "outputs": [],
   "source": [
    "class Params:\n",
    "    def __init__(self):\n",
    "        self.batch_size = 64\n",
    "        self.num_batches = -1\n",
    "        self.num_samples = -1\n",
    "        self.n_x = 28\n",
    "        self.n_y = 28\n",
    "        self.n_z = 20\n",
    "        self.margin = 10\n",
    "        self.lr_G = 1.* 1e-3\n",
    "        self.lr_D = 1.* 1e-4\n",
    "        self.Diters = 5\n",
    "        self.n_channel = 1\n",
    "params = Params()"
   ]
  },
  {
   "cell_type": "code",
   "execution_count": null,
   "metadata": {
    "collapsed": true
   },
   "outputs": [],
   "source": []
  },
  {
   "cell_type": "code",
   "execution_count": 4,
   "metadata": {
    "collapsed": true
   },
   "outputs": [],
   "source": [
    "train_loader = torch.utils.data.DataLoader(\n",
    "    datasets.MNIST('../data', train=True, download=True,\n",
    "                   transform=transforms.ToTensor()),\n",
    "    batch_size=params.batch_size, shuffle=True)\n",
    "params.num_batches = len(train_loader)\n",
    "params.num_samples = params.num_batches * params.batch_size"
   ]
  },
  {
   "cell_type": "code",
   "execution_count": 5,
   "metadata": {},
   "outputs": [
    {
     "name": "stdout",
     "output_type": "stream",
     "text": [
      "return model - encoder.cuda(), decoder.cuda(), disc.cuda()\n"
     ]
    }
   ],
   "source": [
    "%aimport vae_ebgan\n",
    "from vae_ebgan import return_model\n",
    "encoder, decoder, disc = return_model(params)"
   ]
  },
  {
   "cell_type": "code",
   "execution_count": null,
   "metadata": {
    "collapsed": true
   },
   "outputs": [],
   "source": []
  },
  {
   "cell_type": "code",
   "execution_count": null,
   "metadata": {
    "collapsed": true
   },
   "outputs": [],
   "source": []
  },
  {
   "cell_type": "code",
   "execution_count": null,
   "metadata": {},
   "outputs": [],
   "source": [
    "%aimport train_vae_ebgan\n",
    "from train_vae_ebgan import run_trainer"
   ]
  },
  {
   "cell_type": "code",
   "execution_count": null,
   "metadata": {
    "scrolled": true
   },
   "outputs": [
    {
     "name": "stdout",
     "output_type": "stream",
     "text": [
      "saving images for batch 0\n",
      "saving images for batch 200\n",
      "saving images for batch 400\n",
      "saving images for batch 600\n",
      "saving images for batch 800\n",
      "Epoch, features_loss, recon_loss, KLD_loss, D_loss 1 8.145425846680155 118.21616826951504 0.01806080750094452 4492.6070075035095\n",
      "saving images for batch 0\n",
      "saving images for batch 200\n",
      "saving images for batch 400\n",
      "saving images for batch 600\n",
      "saving images for batch 800\n",
      "Epoch, features_loss, recon_loss, KLD_loss, D_loss 2 24.93767005391419 107.37605474889278 0.0010070036476577116 4392.458964347839\n",
      "saving images for batch 0\n",
      "saving images for batch 200\n",
      "saving images for batch 400\n",
      "saving images for batch 600\n",
      "saving images for batch 800\n",
      "Epoch, features_loss, recon_loss, KLD_loss, D_loss 3 28.00997745618224 105.91766541451216 0.0012777256172569196 4388.21370267868\n",
      "saving images for batch 0\n",
      "saving images for batch 200\n",
      "saving images for batch 400\n",
      "saving images for batch 600\n",
      "saving images for batch 800\n",
      "Epoch, features_loss, recon_loss, KLD_loss, D_loss 4 26.112099250778556 106.7548786252737 0.0016514040036739175 4390.090373039246\n",
      "saving images for batch 0\n",
      "saving images for batch 200\n",
      "saving images for batch 400\n",
      "saving images for batch 600\n",
      "saving images for batch 800\n",
      "Epoch, features_loss, recon_loss, KLD_loss, D_loss 5 22.62804561946541 107.43856761604548 0.0016202767281114916 4391.745377063751\n",
      "saving images for batch 0\n",
      "saving images for batch 200\n",
      "saving images for batch 400\n",
      "saving images for batch 600\n",
      "saving images for batch 800\n",
      "Epoch, features_loss, recon_loss, KLD_loss, D_loss 6 15.790797717869282 117.83365701884031 0.009338711131192667 4403.211028575897\n",
      "saving images for batch 0\n",
      "saving images for batch 200\n",
      "saving images for batch 400\n",
      "saving images for batch 600\n",
      "saving images for batch 800\n",
      "Epoch, features_loss, recon_loss, KLD_loss, D_loss 7 16.383268910460174 112.24174440652132 0.0005627260423608504 4396.8579750061035\n",
      "saving images for batch 0\n",
      "saving images for batch 200\n",
      "saving images for batch 400\n",
      "saving images for batch 600\n",
      "saving images for batch 800\n",
      "Epoch, features_loss, recon_loss, KLD_loss, D_loss 8 17.350947587750852 108.86770939826965 9.487196383872742e-05 4390.755205631256\n",
      "saving images for batch 0\n",
      "saving images for batch 200\n",
      "saving images for batch 400\n",
      "saving images for batch 600\n",
      "saving images for batch 800\n",
      "Epoch, features_loss, recon_loss, KLD_loss, D_loss 9 15.878135271370411 108.28777956217527 7.213360760172094e-05 4391.0372405052185\n",
      "saving images for batch 0\n",
      "saving images for batch 200\n",
      "saving images for batch 400\n",
      "saving images for batch 600\n",
      "saving images for batch 800\n",
      "Epoch, features_loss, recon_loss, KLD_loss, D_loss 10 14.26260516513139 105.11737192422152 2.1242680691702098e-05 4384.095727443695\n",
      "saving images for batch 0\n",
      "saving images for batch 200\n",
      "saving images for batch 400\n",
      "saving images for batch 600\n",
      "saving images for batch 800\n",
      "Epoch, features_loss, recon_loss, KLD_loss, D_loss 11 12.824885914102197 105.47243195027113 2.1955419559294143e-05 4389.447455406189\n",
      "saving images for batch 0\n",
      "saving images for batch 200\n",
      "saving images for batch 400\n",
      "saving images for batch 600\n",
      "saving images for batch 800\n",
      "Epoch, features_loss, recon_loss, KLD_loss, D_loss 12 12.321246512234211 104.65770093351603 9.135849546296551e-06 4385.0823583602905\n",
      "saving images for batch 0\n",
      "saving images for batch 200\n",
      "saving images for batch 400\n",
      "saving images for batch 600\n",
      "saving images for batch 800\n",
      "Epoch, features_loss, recon_loss, KLD_loss, D_loss 13 11.3341075303033 103.14238417893648 5.476625419525982e-06 4382.507567882538\n",
      "saving images for batch 0\n",
      "saving images for batch 200\n",
      "saving images for batch 400\n",
      "saving images for batch 600\n",
      "saving images for batch 800\n",
      "Epoch, features_loss, recon_loss, KLD_loss, D_loss 14 10.668562029488385 102.97646188735962 0.03204617958793343 4384.431503295898\n",
      "saving images for batch 0\n",
      "saving images for batch 200\n",
      "saving images for batch 400\n",
      "saving images for batch 600\n",
      "saving images for batch 800\n",
      "Epoch, features_loss, recon_loss, KLD_loss, D_loss 15 7.298482664395124 106.9137944728136 0.011668600216523828 4389.555087566376\n",
      "saving images for batch 0\n",
      "saving images for batch 200\n",
      "saving images for batch 400\n",
      "saving images for batch 600\n",
      "saving images for batch 800\n",
      "Epoch, features_loss, recon_loss, KLD_loss, D_loss 16 6.713987892493606 106.74733778834343 0.0002364385229505217 4389.556086063385\n",
      "saving images for batch 0\n",
      "saving images for batch 200\n",
      "saving images for batch 400\n",
      "saving images for batch 600\n",
      "saving images for batch 800\n",
      "Epoch, features_loss, recon_loss, KLD_loss, D_loss 17 6.509123011492193 105.30026968568563 0.0008743309183003589 4380.532460689545\n",
      "saving images for batch 0\n",
      "saving images for batch 200\n",
      "saving images for batch 400\n",
      "saving images for batch 600\n",
      "saving images for batch 800\n",
      "Epoch, features_loss, recon_loss, KLD_loss, D_loss 18 5.81267063668929 106.26596791297197 0.002703566695702264 4386.178665161133\n",
      "saving images for batch 0\n",
      "saving images for batch 200\n",
      "saving images for batch 400\n",
      "saving images for batch 600\n",
      "saving images for batch 800\n",
      "Epoch, features_loss, recon_loss, KLD_loss, D_loss 19 6.100861198268831 108.91399805247784 0.0010826459727191207 4388.531208515167\n",
      "saving images for batch 0\n",
      "saving images for batch 200\n",
      "saving images for batch 400\n",
      "saving images for batch 600\n",
      "saving images for batch 800\n",
      "Epoch, features_loss, recon_loss, KLD_loss, D_loss 20 5.846154385479167 110.34718304127455 0.00048171624804993485 4390.791627407074\n",
      "saving images for batch 0\n",
      "saving images for batch 200\n",
      "saving images for batch 400\n",
      "saving images for batch 600\n",
      "saving images for batch 800\n",
      "Epoch, features_loss, recon_loss, KLD_loss, D_loss 21 5.700607914943248 109.13425040245056 6.495476052936766e-05 4387.438782215118\n",
      "saving images for batch 0\n",
      "saving images for batch 200\n",
      "saving images for batch 400\n",
      "saving images for batch 600\n",
      "saving images for batch 800\n",
      "Epoch, features_loss, recon_loss, KLD_loss, D_loss 22 6.01202112948522 107.23124973475933 2.4865848079258512e-05 4387.626990318298\n",
      "saving images for batch 0\n",
      "saving images for batch 200\n",
      "saving images for batch 400\n",
      "saving images for batch 600\n",
      "saving images for batch 800\n",
      "Epoch, features_loss, recon_loss, KLD_loss, D_loss 23 5.435333035420626 106.33420721441507 0.04033861506447378 4388.648875236511\n",
      "saving images for batch 0\n",
      "saving images for batch 200\n",
      "saving images for batch 400\n",
      "saving images for batch 600\n",
      "saving images for batch 800\n",
      "Epoch, features_loss, recon_loss, KLD_loss, D_loss 24 9.027646587695926 105.15487807244062 0.001657067272979873 4387.645931720734\n",
      "saving images for batch 0\n",
      "saving images for batch 200\n",
      "saving images for batch 400\n",
      "saving images for batch 600\n",
      "saving images for batch 800\n",
      "Epoch, features_loss, recon_loss, KLD_loss, D_loss 25 9.175028899218887 105.66271498799324 0.004031844611013469 4384.924908161163\n",
      "saving images for batch 0\n",
      "saving images for batch 200\n",
      "saving images for batch 400\n",
      "saving images for batch 600\n",
      "saving images for batch 800\n",
      "Epoch, features_loss, recon_loss, KLD_loss, D_loss 26 3.9344132191035897 105.58485002815723 8.022850494171507e-05 4383.522898674011\n",
      "saving images for batch 0\n",
      "saving images for batch 200\n",
      "saving images for batch 400\n",
      "saving images for batch 600\n",
      "saving images for batch 800\n",
      "Epoch, features_loss, recon_loss, KLD_loss, D_loss 27 4.26616031024605 104.41795238852501 0.00017899105957930317 4384.120954036713\n",
      "saving images for batch 0\n",
      "saving images for batch 200\n",
      "saving images for batch 400\n",
      "saving images for batch 600\n",
      "saving images for batch 800\n",
      "Epoch, features_loss, recon_loss, KLD_loss, D_loss 28 4.57781000691466 104.22229509800673 0.00025006635345548034 4384.846803188324\n",
      "saving images for batch 0\n",
      "saving images for batch 200\n",
      "saving images for batch 400\n",
      "saving images for batch 600\n"
     ]
    }
   ],
   "source": [
    "run_trainer(train_loader, encoder, decoder, disc, params)"
   ]
  },
  {
   "cell_type": "code",
   "execution_count": null,
   "metadata": {
    "collapsed": true
   },
   "outputs": [],
   "source": []
  },
  {
   "cell_type": "code",
   "execution_count": null,
   "metadata": {
    "collapsed": true
   },
   "outputs": [],
   "source": []
  }
 ],
 "metadata": {
  "kernelspec": {
   "display_name": "Python 3",
   "language": "python",
   "name": "python3"
  },
  "language_info": {
   "codemirror_mode": {
    "name": "ipython",
    "version": 3
   },
   "file_extension": ".py",
   "mimetype": "text/x-python",
   "name": "python",
   "nbconvert_exporter": "python",
   "pygments_lexer": "ipython3",
   "version": "3.6.5"
  }
 },
 "nbformat": 4,
 "nbformat_minor": 2
}
